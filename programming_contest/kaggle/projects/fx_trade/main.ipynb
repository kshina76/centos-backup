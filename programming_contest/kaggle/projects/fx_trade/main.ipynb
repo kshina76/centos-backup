{
 "cells": [
  {
   "cell_type": "code",
   "execution_count": 117,
   "metadata": {},
   "outputs": [],
   "source": [
    "from oandapyV20 import API\n",
    "import oandapyV20.endpoints.instruments as instruments\n",
    "import scipy.sparse\n",
    "import pandas as pd\n",
    "import numpy as np\n",
    "import talib as ta\n",
    "import xgboost as xgb"
   ]
  },
  {
   "cell_type": "code",
   "execution_count": 118,
   "metadata": {},
   "outputs": [],
   "source": [
    "# APIキー、environmentはデモか本番か\n",
    "accountID = \"101-009-17701910-001\"\n",
    "access_token = \"37e74db6605da64aeb23ec4105187cb9-6cb80b7e58440f6cac193f567e80c6c3\"\n",
    "api = API(access_token=access_token ,environment=\"practice\")"
   ]
  },
  {
   "cell_type": "code",
   "execution_count": 119,
   "metadata": {},
   "outputs": [],
   "source": [
    "# データ取得に使う定数\n",
    "COUNT = 5000        # 一度に取得するデータ数(max:5000)\n",
    "NB_ITR = 3          # count * NB_ITR 分データを取得\n",
    "GRANULARITY = \"M15\"\n",
    "INSTRUMENT = \"USD_JPY\""
   ]
  },
  {
   "cell_type": "code",
   "execution_count": 120,
   "metadata": {},
   "outputs": [],
   "source": [
    "# oandaAPIからデータを取得する\n",
    "def get_candles(instrument=\"USD_JPY\", params=None):\n",
    "    \"\"\"\n",
    "        足データを取得してDataFrameに変換\n",
    "    \"\"\"\n",
    "    instruments_candles = instruments.InstrumentsCandles(instrument=instrument, params=params)\n",
    "\n",
    "    api.request(instruments_candles)\n",
    "    response = instruments_candles.response # json型\n",
    "\n",
    "    df = pd.DataFrame(response[\"candles\"]) # response[\"candles\"]はlist型\n",
    "\n",
    "    return df"
   ]
  },
  {
   "cell_type": "code",
   "execution_count": 121,
   "metadata": {},
   "outputs": [],
   "source": [
    "# 足データを取得するためにoandaAPIに渡すパラメータ\n",
    "params = {\n",
    "    \"granularity\": GRANULARITY,\n",
    "    \"count\": COUNT,\n",
    "    #\"price\": \"B\",\n",
    "}"
   ]
  },
  {
   "cell_type": "code",
   "execution_count": 122,
   "metadata": {
    "tags": []
   },
   "outputs": [
    {
     "output_type": "stream",
     "name": "stdout",
     "text": "2020-11-03T13:00:00.000000000Z\n2020-08-21T08:45:00.000000000Z\n2020-06-10T05:45:00.000000000Z\n"
    },
    {
     "output_type": "execute_result",
     "data": {
      "text/plain": "      complete  volume                            time  \\\n0         True    1251  2020-06-10T05:45:00.000000000Z   \n1         True     924  2020-06-10T06:00:00.000000000Z   \n2         True     814  2020-06-10T06:15:00.000000000Z   \n3         True    1206  2020-06-10T06:30:00.000000000Z   \n4         True     955  2020-06-10T06:45:00.000000000Z   \n...        ...     ...                             ...   \n4995      True     531  2021-01-18T13:30:00.000000000Z   \n4996      True     662  2021-01-18T13:45:00.000000000Z   \n4997      True     749  2021-01-18T14:00:00.000000000Z   \n4998      True     462  2021-01-18T14:15:00.000000000Z   \n4999     False     425  2021-01-18T14:30:00.000000000Z   \n\n                                                    mid  \n0     {'o': '107.509', 'h': '107.525', 'l': '107.389...  \n1     {'o': '107.474', 'h': '107.505', 'l': '107.448...  \n2     {'o': '107.452', 'h': '107.480', 'l': '107.422...  \n3     {'o': '107.424', 'h': '107.443', 'l': '107.380...  \n4     {'o': '107.430', 'h': '107.432', 'l': '107.338...  \n...                                                 ...  \n4995  {'o': '103.751', 'h': '103.766', 'l': '103.732...  \n4996  {'o': '103.766', 'h': '103.766', 'l': '103.719...  \n4997  {'o': '103.723', 'h': '103.754', 'l': '103.720...  \n4998  {'o': '103.752', 'h': '103.758', 'l': '103.732...  \n4999  {'o': '103.736', 'h': '103.746', 'l': '103.728...  \n\n[15000 rows x 4 columns]",
      "text/html": "<div>\n<style scoped>\n    .dataframe tbody tr th:only-of-type {\n        vertical-align: middle;\n    }\n\n    .dataframe tbody tr th {\n        vertical-align: top;\n    }\n\n    .dataframe thead th {\n        text-align: right;\n    }\n</style>\n<table border=\"1\" class=\"dataframe\">\n  <thead>\n    <tr style=\"text-align: right;\">\n      <th></th>\n      <th>complete</th>\n      <th>volume</th>\n      <th>time</th>\n      <th>mid</th>\n    </tr>\n  </thead>\n  <tbody>\n    <tr>\n      <th>0</th>\n      <td>True</td>\n      <td>1251</td>\n      <td>2020-06-10T05:45:00.000000000Z</td>\n      <td>{'o': '107.509', 'h': '107.525', 'l': '107.389...</td>\n    </tr>\n    <tr>\n      <th>1</th>\n      <td>True</td>\n      <td>924</td>\n      <td>2020-06-10T06:00:00.000000000Z</td>\n      <td>{'o': '107.474', 'h': '107.505', 'l': '107.448...</td>\n    </tr>\n    <tr>\n      <th>2</th>\n      <td>True</td>\n      <td>814</td>\n      <td>2020-06-10T06:15:00.000000000Z</td>\n      <td>{'o': '107.452', 'h': '107.480', 'l': '107.422...</td>\n    </tr>\n    <tr>\n      <th>3</th>\n      <td>True</td>\n      <td>1206</td>\n      <td>2020-06-10T06:30:00.000000000Z</td>\n      <td>{'o': '107.424', 'h': '107.443', 'l': '107.380...</td>\n    </tr>\n    <tr>\n      <th>4</th>\n      <td>True</td>\n      <td>955</td>\n      <td>2020-06-10T06:45:00.000000000Z</td>\n      <td>{'o': '107.430', 'h': '107.432', 'l': '107.338...</td>\n    </tr>\n    <tr>\n      <th>...</th>\n      <td>...</td>\n      <td>...</td>\n      <td>...</td>\n      <td>...</td>\n    </tr>\n    <tr>\n      <th>4995</th>\n      <td>True</td>\n      <td>531</td>\n      <td>2021-01-18T13:30:00.000000000Z</td>\n      <td>{'o': '103.751', 'h': '103.766', 'l': '103.732...</td>\n    </tr>\n    <tr>\n      <th>4996</th>\n      <td>True</td>\n      <td>662</td>\n      <td>2021-01-18T13:45:00.000000000Z</td>\n      <td>{'o': '103.766', 'h': '103.766', 'l': '103.719...</td>\n    </tr>\n    <tr>\n      <th>4997</th>\n      <td>True</td>\n      <td>749</td>\n      <td>2021-01-18T14:00:00.000000000Z</td>\n      <td>{'o': '103.723', 'h': '103.754', 'l': '103.720...</td>\n    </tr>\n    <tr>\n      <th>4998</th>\n      <td>True</td>\n      <td>462</td>\n      <td>2021-01-18T14:15:00.000000000Z</td>\n      <td>{'o': '103.752', 'h': '103.758', 'l': '103.732...</td>\n    </tr>\n    <tr>\n      <th>4999</th>\n      <td>False</td>\n      <td>425</td>\n      <td>2021-01-18T14:30:00.000000000Z</td>\n      <td>{'o': '103.736', 'h': '103.746', 'l': '103.728...</td>\n    </tr>\n  </tbody>\n</table>\n<p>15000 rows × 4 columns</p>\n</div>"
     },
     "metadata": {},
     "execution_count": 122
    }
   ],
   "source": [
    "# 足データの取得\n",
    "candles = None\n",
    "for i in range(NB_ITR):\n",
    "    new_candles = get_candles(instrument=INSTRUMENT, params=params)\n",
    "    params[\"to\"] = new_candles[\"time\"].iloc[0]\n",
    "    print(params[\"to\"])\n",
    "    candles = pd.concat([new_candles, candles])\n",
    "\n",
    "candles"
   ]
  },
  {
   "cell_type": "code",
   "execution_count": 131,
   "metadata": {},
   "outputs": [
    {
     "output_type": "execute_result",
     "data": {
      "text/plain": "{'o': '103.736', 'h': '103.746', 'l': '103.728', 'c': '103.728'}"
     },
     "metadata": {},
     "execution_count": 131
    }
   ],
   "source": [
    "# midはbidとaskの間で、midにスプレッドを足したものがask、引いたものがbidって感じかな？？\n",
    "# price_arrをseriesからlist型で{'o': '107.554', 'h': '107.558', 'l': '107.507', 'c': '107.538'}が時系列順に羅列される\n",
    "price_arr = candles[\"mid\"]\n",
    "price_arr = list(price_arr)\n",
    "price_arr[-1]\n"
   ]
  },
  {
   "cell_type": "code",
   "execution_count": 138,
   "metadata": {
    "tags": []
   },
   "outputs": [
    {
     "output_type": "execute_result",
     "data": {
      "text/plain": "103.754"
     },
     "metadata": {},
     "execution_count": 138
    }
   ],
   "source": [
    "# 終値を抽出\n",
    "close_price = [float(dict(i)[\"c\"]) for i in price_arr]\n",
    "len(close_price)\n",
    "close_price[14997]\n",
    "\n"
   ]
  },
  {
   "cell_type": "code",
   "execution_count": 135,
   "metadata": {},
   "outputs": [],
   "source": [
    "# 「cur_pos-period ~ cur_pos+1」の期間でmaを計算する\n",
    "# 20日移動平均（20SMA)であれば、本日を含めた過去20日間の終値を合計し、日数の20で割って平均\n",
    "def get_ma(price_arr, cur_pos, period = 20):\n",
    "    if cur_pos <= period:\n",
    "        s = 0\n",
    "    else:\n",
    "        s = cur_pos - period + 1\n",
    "    tmp_arr = price_arr[s:cur_pos+1] # cur_posってなってたけど、+1しないとだめじゃない？？\n",
    "    #tmp_arr.reverse()\n",
    "    print(tmp_arr)\n",
    "    prices = np.array(tmp_arr, dtype=float)\n",
    "    return ta.SMA(prices, timeperiod = period)[-1]"
   ]
  },
  {
   "cell_type": "code",
   "execution_count": 139,
   "metadata": {
    "tags": []
   },
   "outputs": [],
   "source": [
    "#get_ma(close_price, 14999, 3)\n"
   ]
  },
  {
   "cell_type": "code",
   "execution_count": null,
   "metadata": {},
   "outputs": [],
   "source": []
  }
 ],
 "metadata": {
  "language_info": {
   "codemirror_mode": {
    "name": "ipython",
    "version": 3
   },
   "file_extension": ".py",
   "mimetype": "text/x-python",
   "name": "python",
   "nbconvert_exporter": "python",
   "pygments_lexer": "ipython3",
   "version": 3
  },
  "orig_nbformat": 2,
  "kernelspec": {
   "name": "python_defaultSpec_1610976821899",
   "display_name": "Python 3.7.6 64-bit ('conda': virtualenv)"
  }
 },
 "nbformat": 4,
 "nbformat_minor": 2
}