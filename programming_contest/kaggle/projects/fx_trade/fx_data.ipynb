{
 "cells": [
  {
   "cell_type": "code",
   "execution_count": 41,
   "metadata": {},
   "outputs": [],
   "source": [
    "from oandapyV20 import API\n",
    "import oandapyV20.endpoints.instruments as instruments\n",
    "import scipy.sparse\n",
    "import pandas as pd\n",
    "import numpy as np\n",
    "import talib as ta\n",
    "import xgboost as xgb\n",
    "from sklearn.model_selection import train_test_split\n",
    "from sklearn.metrics import (\n",
    "    accuracy_score,\n",
    "    classification_report,\n",
    "    roc_auc_score,\n",
    "    precision_recall_curve,\n",
    "    auc,\n",
    "    roc_curve,\n",
    ")\n",
    "from sklearn.model_selection import GridSearchCV"
   ]
  },
  {
   "cell_type": "code",
   "execution_count": 42,
   "metadata": {},
   "outputs": [],
   "source": [
    "accountID = \"101-009-17701910-001\"\n",
    "access_token = \"e4d4218a8bfc0d994d5147a2e1727a6c-931f32120c50c74a0c3268e5ca693ff0\"\n",
    "\n",
    "# APIキー、environmentはデモか本番か\n",
    "oanda_api = API(access_token=access_token, environment=\"practice\")"
   ]
  },
  {
   "cell_type": "code",
   "execution_count": 43,
   "metadata": {},
   "outputs": [],
   "source": [
    "# oandaAPIを叩いて、いろいろな形のデータを返すクラス\n",
    "class DataFromOanda:\n",
    "    def __init__(self, instrument=\"USD_JPY\", params=None):\n",
    "        self.instrument = instrument\n",
    "        self.params = params\n",
    "\n",
    "    # oandaAPIからデータを取得する\n",
    "    def get_candles(self):\n",
    "        \"\"\"\n",
    "            足データを取得してDataFrameに変換\n",
    "        \"\"\"\n",
    "        instruments_candles = instruments.InstrumentsCandles(\n",
    "            instrument=self.instrument, params=self.params\n",
    "        )\n",
    "\n",
    "        oanda_api.request(instruments_candles)\n",
    "        response = instruments_candles.response  # json型\n",
    "        df = pd.DataFrame(response[\"candles\"])  # response[\"candles\"]はlist型\n",
    "\n",
    "        return df\n",
    "\n",
    "    # oandaAPIから5000件を超える足データの取得(日付とか色々ついている)\n",
    "    def get_candles_over5000(self, nb_itr=1):\n",
    "        candles = None\n",
    "        for i in range(nb_itr):\n",
    "            new_candles = self.get_candles()\n",
    "            params[\"to\"] = new_candles[\"time\"].iloc[0]\n",
    "            print(params[\"to\"])\n",
    "            candles = pd.concat([new_candles, candles])\n",
    "        return candles\n",
    "\n",
    "    # 終値のリストを返す\n",
    "    def get_close_price_over5000(self, nb_itr=1):\n",
    "        candles = self.get_candles_over5000(nb_itr)\n",
    "        if self.params[\"price\"] == \"M\":\n",
    "            bid_ask_mid = \"mid\"\n",
    "        elif self.params[\"price\"] == \"A\":\n",
    "            bid_ask_mid = \"ask\"\n",
    "        elif self.params[\"price\"] == \"B\":\n",
    "            bid_ask_mid = \"bid\"\n",
    "\n",
    "        candles_price = candles[bid_ask_mid]\n",
    "        candles_price_list = list(candles_price)\n",
    "\n",
    "        return [float(dict(i)[\"c\"]) for i in candles_price_list]"
   ]
  },
  {
   "cell_type": "code",
   "execution_count": 44,
   "metadata": {},
   "outputs": [],
   "source": [
    "# データ取得に使う定数\n",
    "COUNT = 5000  # 一度に取得するデータ数(max:5000)\n",
    "NB_ITR = 12  # count * NB_ITR 分データを取得 M15なら30、H1なら12\n",
    "GRANULARITY = \"H1\"\n",
    "INSTRUMENT = \"USD_JPY\"\n",
    "SKIP = 500  # 学習データの最初を何個読み飛ばすか。テクニカルを計算するときに過去の値を使うから読み飛ばさないと計算できない\n",
    "TARGET_OFFSET = 3  # 何個先の足をターゲット変数とするか\n",
    "# MODE = \"train\"\n",
    "# 足データを取得するためにoandaAPIに渡すパラメータ\n",
    "params = {\n",
    "    \"granularity\": GRANULARITY,\n",
    "    \"count\": COUNT,\n",
    "    \"price\": \"M\",\n",
    "}\n",
    "xgb_param = {\n",
    "    \"max_depth\": 5,\n",
    "    \"eta\": 0.2,\n",
    "    \"subsample\": 1,\n",
    "    \"objective\": \"binary:logistic\",\n",
    "    \"n_estimators\": 2000,\n",
    "}"
   ]
  },
  {
   "cell_type": "code",
   "execution_count": 45,
   "metadata": {
    "tags": []
   },
   "outputs": [
    {
     "output_type": "stream",
     "name": "stdout",
     "text": "2020-04-24T13:00:00.000000000Z\n2019-07-05T12:00:00.000000000Z\n2018-09-14T11:00:00.000000000Z\n2017-11-24T04:00:00.000000000Z\n2017-02-06T22:00:00.000000000Z\n2016-04-18T11:00:00.000000000Z\n2015-06-28T22:00:00.000000000Z\n2014-09-05T08:00:00.000000000Z\n2013-11-14T18:00:00.000000000Z\n2013-01-28T20:00:00.000000000Z\n2012-04-16T03:00:00.000000000Z\n2011-07-25T09:00:00.000000000Z\n"
    },
    {
     "output_type": "execute_result",
     "data": {
      "text/plain": "       complete  volume                            time  \\\n0          True     536  2011-07-25T09:00:00.000000000Z   \n1          True     423  2011-07-25T10:00:00.000000000Z   \n2          True     506  2011-07-25T11:00:00.000000000Z   \n3          True     605  2011-07-25T12:00:00.000000000Z   \n4          True     680  2011-07-25T13:00:00.000000000Z   \n...         ...     ...                             ...   \n59995      True    1290  2021-02-12T17:00:00.000000000Z   \n59996      True    1376  2021-02-12T18:00:00.000000000Z   \n59997      True     759  2021-02-12T19:00:00.000000000Z   \n59998      True     908  2021-02-12T20:00:00.000000000Z   \n59999      True     535  2021-02-12T21:00:00.000000000Z   \n\n                                                     mid  \n0      {'o': '78.163', 'h': '78.199', 'l': '78.059', ...  \n1      {'o': '78.076', 'h': '78.216', 'l': '78.064', ...  \n2      {'o': '78.192', 'h': '78.348', 'l': '78.190', ...  \n3      {'o': '78.219', 'h': '78.276', 'l': '78.194', ...  \n4      {'o': '78.217', 'h': '78.229', 'l': '78.125', ...  \n...                                                  ...  \n59995  {'o': '104.952', 'h': '104.958', 'l': '104.919...  \n59996  {'o': '104.929', 'h': '104.954', 'l': '104.917...  \n59997  {'o': '104.944', 'h': '104.977', 'l': '104.935...  \n59998  {'o': '104.974', 'h': '104.988', 'l': '104.946...  \n59999  {'o': '104.952', 'h': '104.971', 'l': '104.920...  \n\n[60000 rows x 4 columns]",
      "text/html": "<div>\n<style scoped>\n    .dataframe tbody tr th:only-of-type {\n        vertical-align: middle;\n    }\n\n    .dataframe tbody tr th {\n        vertical-align: top;\n    }\n\n    .dataframe thead th {\n        text-align: right;\n    }\n</style>\n<table border=\"1\" class=\"dataframe\">\n  <thead>\n    <tr style=\"text-align: right;\">\n      <th></th>\n      <th>complete</th>\n      <th>volume</th>\n      <th>time</th>\n      <th>mid</th>\n    </tr>\n  </thead>\n  <tbody>\n    <tr>\n      <th>0</th>\n      <td>True</td>\n      <td>536</td>\n      <td>2011-07-25T09:00:00.000000000Z</td>\n      <td>{'o': '78.163', 'h': '78.199', 'l': '78.059', ...</td>\n    </tr>\n    <tr>\n      <th>1</th>\n      <td>True</td>\n      <td>423</td>\n      <td>2011-07-25T10:00:00.000000000Z</td>\n      <td>{'o': '78.076', 'h': '78.216', 'l': '78.064', ...</td>\n    </tr>\n    <tr>\n      <th>2</th>\n      <td>True</td>\n      <td>506</td>\n      <td>2011-07-25T11:00:00.000000000Z</td>\n      <td>{'o': '78.192', 'h': '78.348', 'l': '78.190', ...</td>\n    </tr>\n    <tr>\n      <th>3</th>\n      <td>True</td>\n      <td>605</td>\n      <td>2011-07-25T12:00:00.000000000Z</td>\n      <td>{'o': '78.219', 'h': '78.276', 'l': '78.194', ...</td>\n    </tr>\n    <tr>\n      <th>4</th>\n      <td>True</td>\n      <td>680</td>\n      <td>2011-07-25T13:00:00.000000000Z</td>\n      <td>{'o': '78.217', 'h': '78.229', 'l': '78.125', ...</td>\n    </tr>\n    <tr>\n      <th>...</th>\n      <td>...</td>\n      <td>...</td>\n      <td>...</td>\n      <td>...</td>\n    </tr>\n    <tr>\n      <th>59995</th>\n      <td>True</td>\n      <td>1290</td>\n      <td>2021-02-12T17:00:00.000000000Z</td>\n      <td>{'o': '104.952', 'h': '104.958', 'l': '104.919...</td>\n    </tr>\n    <tr>\n      <th>59996</th>\n      <td>True</td>\n      <td>1376</td>\n      <td>2021-02-12T18:00:00.000000000Z</td>\n      <td>{'o': '104.929', 'h': '104.954', 'l': '104.917...</td>\n    </tr>\n    <tr>\n      <th>59997</th>\n      <td>True</td>\n      <td>759</td>\n      <td>2021-02-12T19:00:00.000000000Z</td>\n      <td>{'o': '104.944', 'h': '104.977', 'l': '104.935...</td>\n    </tr>\n    <tr>\n      <th>59998</th>\n      <td>True</td>\n      <td>908</td>\n      <td>2021-02-12T20:00:00.000000000Z</td>\n      <td>{'o': '104.974', 'h': '104.988', 'l': '104.946...</td>\n    </tr>\n    <tr>\n      <th>59999</th>\n      <td>True</td>\n      <td>535</td>\n      <td>2021-02-12T21:00:00.000000000Z</td>\n      <td>{'o': '104.952', 'h': '104.971', 'l': '104.920...</td>\n    </tr>\n  </tbody>\n</table>\n<p>60000 rows × 4 columns</p>\n</div>"
     },
     "metadata": {},
     "execution_count": 45
    }
   ],
   "source": [
    "# oandaAPIを叩くクラスのインスタンス化\n",
    "data_from_oanda = DataFromOanda(instrument=INSTRUMENT, params=params)\n",
    "candles = data_from_oanda.get_candles_over5000(NB_ITR)\n",
    "candles = candles.reset_index(drop=True)\n",
    "candles"
   ]
  },
  {
   "cell_type": "code",
   "execution_count": 46,
   "metadata": {},
   "outputs": [
    {
     "output_type": "execute_result",
     "data": {
      "text/plain": "{'o': '78.163', 'h': '78.199', 'l': '78.059', 'c': '78.073'}"
     },
     "metadata": {},
     "execution_count": 46
    }
   ],
   "source": [
    "candle = [dict(i) for i in candles[\"mid\"]]\n",
    "candle[0]"
   ]
  },
  {
   "cell_type": "code",
   "execution_count": 47,
   "metadata": {},
   "outputs": [],
   "source": [
    "candle_open = [float(i[\"o\"]) for i in candle]\n",
    "candle_high = [float(i[\"h\"]) for i in candle]\n",
    "candle_low = [float(i[\"l\"]) for i in candle]\n",
    "candle_close = [float(i[\"c\"]) for i in candle]"
   ]
  },
  {
   "cell_type": "code",
   "execution_count": 48,
   "metadata": {},
   "outputs": [
    {
     "output_type": "execute_result",
     "data": {
      "text/plain": "         close\n0       78.073\n1       78.190\n2       78.216\n3       78.215\n4       78.219\n...        ...\n59995  104.928\n59996  104.944\n59997  104.972\n59998  104.950\n59999  104.926\n\n[60000 rows x 1 columns]",
      "text/html": "<div>\n<style scoped>\n    .dataframe tbody tr th:only-of-type {\n        vertical-align: middle;\n    }\n\n    .dataframe tbody tr th {\n        vertical-align: top;\n    }\n\n    .dataframe thead th {\n        text-align: right;\n    }\n</style>\n<table border=\"1\" class=\"dataframe\">\n  <thead>\n    <tr style=\"text-align: right;\">\n      <th></th>\n      <th>close</th>\n    </tr>\n  </thead>\n  <tbody>\n    <tr>\n      <th>0</th>\n      <td>78.073</td>\n    </tr>\n    <tr>\n      <th>1</th>\n      <td>78.190</td>\n    </tr>\n    <tr>\n      <th>2</th>\n      <td>78.216</td>\n    </tr>\n    <tr>\n      <th>3</th>\n      <td>78.215</td>\n    </tr>\n    <tr>\n      <th>4</th>\n      <td>78.219</td>\n    </tr>\n    <tr>\n      <th>...</th>\n      <td>...</td>\n    </tr>\n    <tr>\n      <th>59995</th>\n      <td>104.928</td>\n    </tr>\n    <tr>\n      <th>59996</th>\n      <td>104.944</td>\n    </tr>\n    <tr>\n      <th>59997</th>\n      <td>104.972</td>\n    </tr>\n    <tr>\n      <th>59998</th>\n      <td>104.950</td>\n    </tr>\n    <tr>\n      <th>59999</th>\n      <td>104.926</td>\n    </tr>\n  </tbody>\n</table>\n<p>60000 rows × 1 columns</p>\n</div>"
     },
     "metadata": {},
     "execution_count": 48
    }
   ],
   "source": [
    "open_df = pd.DataFrame(candle_open, columns=[\"open\"])\n",
    "high_df = pd.DataFrame(candle_high, columns=[\"high\"])\n",
    "low_df = pd.DataFrame(candle_low, columns=[\"low\"])\n",
    "close_df = pd.DataFrame(candle_close, columns=[\"close\"])\n",
    "close_df"
   ]
  },
  {
   "cell_type": "code",
   "execution_count": 49,
   "metadata": {},
   "outputs": [
    {
     "output_type": "execute_result",
     "data": {
      "text/plain": "       volume                            time     open     high      low  \\\n0         536  2011-07-25T09:00:00.000000000Z   78.163   78.199   78.059   \n1         423  2011-07-25T10:00:00.000000000Z   78.076   78.216   78.064   \n2         506  2011-07-25T11:00:00.000000000Z   78.192   78.348   78.190   \n3         605  2011-07-25T12:00:00.000000000Z   78.219   78.276   78.194   \n4         680  2011-07-25T13:00:00.000000000Z   78.217   78.229   78.125   \n...       ...                             ...      ...      ...      ...   \n59995    1290  2021-02-12T17:00:00.000000000Z  104.952  104.958  104.919   \n59996    1376  2021-02-12T18:00:00.000000000Z  104.929  104.954  104.917   \n59997     759  2021-02-12T19:00:00.000000000Z  104.944  104.977  104.935   \n59998     908  2021-02-12T20:00:00.000000000Z  104.974  104.988  104.946   \n59999     535  2021-02-12T21:00:00.000000000Z  104.952  104.971  104.920   \n\n         close  \n0       78.073  \n1       78.190  \n2       78.216  \n3       78.215  \n4       78.219  \n...        ...  \n59995  104.928  \n59996  104.944  \n59997  104.972  \n59998  104.950  \n59999  104.926  \n\n[60000 rows x 6 columns]",
      "text/html": "<div>\n<style scoped>\n    .dataframe tbody tr th:only-of-type {\n        vertical-align: middle;\n    }\n\n    .dataframe tbody tr th {\n        vertical-align: top;\n    }\n\n    .dataframe thead th {\n        text-align: right;\n    }\n</style>\n<table border=\"1\" class=\"dataframe\">\n  <thead>\n    <tr style=\"text-align: right;\">\n      <th></th>\n      <th>volume</th>\n      <th>time</th>\n      <th>open</th>\n      <th>high</th>\n      <th>low</th>\n      <th>close</th>\n    </tr>\n  </thead>\n  <tbody>\n    <tr>\n      <th>0</th>\n      <td>536</td>\n      <td>2011-07-25T09:00:00.000000000Z</td>\n      <td>78.163</td>\n      <td>78.199</td>\n      <td>78.059</td>\n      <td>78.073</td>\n    </tr>\n    <tr>\n      <th>1</th>\n      <td>423</td>\n      <td>2011-07-25T10:00:00.000000000Z</td>\n      <td>78.076</td>\n      <td>78.216</td>\n      <td>78.064</td>\n      <td>78.190</td>\n    </tr>\n    <tr>\n      <th>2</th>\n      <td>506</td>\n      <td>2011-07-25T11:00:00.000000000Z</td>\n      <td>78.192</td>\n      <td>78.348</td>\n      <td>78.190</td>\n      <td>78.216</td>\n    </tr>\n    <tr>\n      <th>3</th>\n      <td>605</td>\n      <td>2011-07-25T12:00:00.000000000Z</td>\n      <td>78.219</td>\n      <td>78.276</td>\n      <td>78.194</td>\n      <td>78.215</td>\n    </tr>\n    <tr>\n      <th>4</th>\n      <td>680</td>\n      <td>2011-07-25T13:00:00.000000000Z</td>\n      <td>78.217</td>\n      <td>78.229</td>\n      <td>78.125</td>\n      <td>78.219</td>\n    </tr>\n    <tr>\n      <th>...</th>\n      <td>...</td>\n      <td>...</td>\n      <td>...</td>\n      <td>...</td>\n      <td>...</td>\n      <td>...</td>\n    </tr>\n    <tr>\n      <th>59995</th>\n      <td>1290</td>\n      <td>2021-02-12T17:00:00.000000000Z</td>\n      <td>104.952</td>\n      <td>104.958</td>\n      <td>104.919</td>\n      <td>104.928</td>\n    </tr>\n    <tr>\n      <th>59996</th>\n      <td>1376</td>\n      <td>2021-02-12T18:00:00.000000000Z</td>\n      <td>104.929</td>\n      <td>104.954</td>\n      <td>104.917</td>\n      <td>104.944</td>\n    </tr>\n    <tr>\n      <th>59997</th>\n      <td>759</td>\n      <td>2021-02-12T19:00:00.000000000Z</td>\n      <td>104.944</td>\n      <td>104.977</td>\n      <td>104.935</td>\n      <td>104.972</td>\n    </tr>\n    <tr>\n      <th>59998</th>\n      <td>908</td>\n      <td>2021-02-12T20:00:00.000000000Z</td>\n      <td>104.974</td>\n      <td>104.988</td>\n      <td>104.946</td>\n      <td>104.950</td>\n    </tr>\n    <tr>\n      <th>59999</th>\n      <td>535</td>\n      <td>2021-02-12T21:00:00.000000000Z</td>\n      <td>104.952</td>\n      <td>104.971</td>\n      <td>104.920</td>\n      <td>104.926</td>\n    </tr>\n  </tbody>\n</table>\n<p>60000 rows × 6 columns</p>\n</div>"
     },
     "metadata": {},
     "execution_count": 49
    }
   ],
   "source": [
    "candles_concat = pd.concat([candles, open_df, high_df, low_df, close_df], axis=1)\n",
    "del candles_concat[\"mid\"]\n",
    "del candles_concat[\"complete\"]\n",
    "candles_concat"
   ]
  },
  {
   "cell_type": "code",
   "execution_count": 50,
   "metadata": {},
   "outputs": [],
   "source": [
    "candles_concat.to_csv(\"usd_jpy_1H.csv\")"
   ]
  }
 ],
 "metadata": {
  "language_info": {
   "codemirror_mode": {
    "name": "ipython",
    "version": 3
   },
   "file_extension": ".py",
   "mimetype": "text/x-python",
   "name": "python",
   "nbconvert_exporter": "python",
   "pygments_lexer": "ipython3",
   "version": 3
  },
  "orig_nbformat": 2,
  "kernelspec": {
   "name": "python_defaultSpec_1613323635212",
   "display_name": "Python 3.7.6 64-bit ('base': conda)"
  }
 },
 "nbformat": 4,
 "nbformat_minor": 2
}